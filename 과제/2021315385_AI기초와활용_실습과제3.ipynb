{
  "nbformat": 4,
  "nbformat_minor": 0,
  "metadata": {
    "colab": {
      "name": "2021315385_AI기초와활용_실습과제3.ipynb",
      "provenance": [],
      "collapsed_sections": []
    },
    "kernelspec": {
      "name": "python3",
      "display_name": "Python 3"
    },
    "language_info": {
      "name": "python"
    }
  },
  "cells": [
    {
      "cell_type": "code",
      "metadata": {
        "colab": {
          "base_uri": "https://localhost:8080/"
        },
        "id": "gV1iJazc2fxc",
        "outputId": "fa15eb75-2a89-4712-8561-761be1042ab5"
      },
      "source": [
        "import torch\n",
        "import torch.nn as nn\n",
        "import torch.nn.functional as F\n",
        "import torch.optim as optim\n",
        "\n",
        "torch.manual_seed(1)\n",
        "\n",
        "# Q1) 키(cm)와 발사이즈(mm)를 입력으로 하는 데이터 샘플을 6개 수집하여 training 데이터로 입력하시오. 각 데이터 샘플의 출력값은 남자 (1), 여자 (0)로 표기할 것.  \n",
        "x_data =  [[159,240],[165,250],[173,275],[175,275],[178,280],[182,285]] ### to do\n",
        "y_data =  [[0],[0],[1],[1],[1],[1]] ### to do\n",
        "x_train = torch.FloatTensor(x_data)\n",
        "y_train = torch.FloatTensor(y_data)\n",
        "\n",
        "# 모델 초기화\n",
        "W = torch.zeros((2, 1), requires_grad=True)\n",
        "b = torch.zeros(1, requires_grad=True)\n",
        "\n",
        "# Q2) 학습이 잘 진행되도록 알맞은 Optimizer, 학습률을 입력하시오. 왜 학습률을 이렇게 설정 하였는가 주석으로 반드시 설명하시오.\n",
        "\n",
        "#그래프의 접선의 기울기가 0이 되는 최적의 W를 찾고 가장 최적화된 cost값이 수렴되도록 학습률을 조절했다.\n",
        "optimizer = optim.SGD([W,b], lr=0.0001) ### to do\n",
        "\n",
        "# Q3) 학습이 잘 진행되도록 알맞게 epoch 수를 조정 하시오. 왜 epoch 수를 이렇게 설정 하였는가 주석으로 반드시 설명하시오.\n",
        "\n",
        "#cost값을 수령하기 위해 경사 하강법을 최대한 많이 반복한다.\n",
        "#10000으로 하면 더 최적화된 cost값을 구할 수 있어 10000으로 바꿔도 문제는 없지만 학습의 효율성이 떨어져 1000으로 했다.\n",
        "nb_epochs = 1000 ### to do\n",
        "for epoch in range(nb_epochs + 1):\n",
        "\n",
        "    # Cost 계산\n",
        "    hypothesis = torch.sigmoid(x_train.matmul(W) + b) # or .mm or @\n",
        "    cost = -(y_train * torch.log(hypothesis) + \n",
        "             (1 - y_train) * torch.log(1 - hypothesis)).mean()\n",
        "\n",
        "    # cost로 H(x) 개선\n",
        "    optimizer.zero_grad()\n",
        "    cost.backward()\n",
        "    optimizer.step()\n",
        "\n",
        "    # 100번마다 로그 출력\n",
        "    if epoch % 100 == 0:\n",
        "        print('Epoch {:4d}/{} Cost: {:.6f}'.format(\n",
        "            epoch, nb_epochs, cost.item()\n",
        "        ))"
      ],
      "execution_count": null,
      "outputs": [
        {
          "output_type": "stream",
          "name": "stdout",
          "text": [
            "Epoch    0/1000 Cost: 0.693147\n",
            "Epoch  100/1000 Cost: 0.653847\n",
            "Epoch  200/1000 Cost: 0.638352\n",
            "Epoch  300/1000 Cost: 0.623079\n",
            "Epoch  400/1000 Cost: 0.608014\n",
            "Epoch  500/1000 Cost: 0.593143\n",
            "Epoch  600/1000 Cost: 0.578450\n",
            "Epoch  700/1000 Cost: 0.563918\n",
            "Epoch  800/1000 Cost: 0.549529\n",
            "Epoch  900/1000 Cost: 0.535264\n",
            "Epoch 1000/1000 Cost: 0.521103\n"
          ]
        }
      ]
    },
    {
      "cell_type": "code",
      "metadata": {
        "colab": {
          "base_uri": "https://localhost:8080/"
        },
        "id": "GIoZFglt3Hwr",
        "outputId": "243c73a6-58fb-4286-ecc0-88006ee8e682"
      },
      "source": [
        "# Q4) x_test에 적당한 입력(키(cm), 발사이즈(mm))를 입력하여 결과를 확인하시오. training 데이터와 같은 값이 입력되지 않도록 해야 함.\n",
        "x_test = torch.FloatTensor([[190, 290]]) ### to do\n",
        "hypothesis = torch.sigmoid(x_test.matmul(W) + b)\n",
        "cost = -(y_train * torch.log(hypothesis) + \n",
        "             (1 - y_train) * torch.log(1 - hypothesis)).mean()\n",
        "print (hypothesis >= torch.FloatTensor([0.5]))"
      ],
      "execution_count": null,
      "outputs": [
        {
          "output_type": "stream",
          "name": "stdout",
          "text": [
            "tensor([[True]])\n"
          ]
        }
      ]
    }
  ]
}