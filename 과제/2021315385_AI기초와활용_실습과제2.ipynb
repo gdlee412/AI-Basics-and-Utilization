{
  "nbformat": 4,
  "nbformat_minor": 0,
  "metadata": {
    "colab": {
      "provenance": []
    },
    "kernelspec": {
      "name": "python3",
      "display_name": "Python 3"
    },
    "language_info": {
      "name": "python"
    },
    "gpuClass": "standard"
  },
  "cells": [
    {
      "cell_type": "markdown",
      "source": [
        "우선 키를 x, 그리고 발길이를 y로 정하여 코드를 실행해 봤습니다."
      ],
      "metadata": {
        "id": "3qUsRbGpWA_K"
      }
    },
    {
      "cell_type": "code",
      "execution_count": 21,
      "metadata": {
        "colab": {
          "base_uri": "https://localhost:8080/"
        },
        "id": "qIZIrkj6RcgG",
        "outputId": "7120eab2-dd40-4c64-916f-6aff6b9206d3"
      },
      "outputs": [
        {
          "output_type": "stream",
          "name": "stdout",
          "text": [
            "Epoch    0/1000 W:0.092, b: 0.001 Cost: 71829.164062\n",
            "Epoch  100/1000 W:1.553, b: 0.009 Cost: 25.982519\n",
            "Epoch  200/1000 W:1.556, b: 0.009 Cost: 25.630003\n",
            "Epoch  300/1000 W:1.556, b: 0.009 Cost: 25.629913\n",
            "Epoch  400/1000 W:1.556, b: 0.009 Cost: 25.629921\n",
            "Epoch  500/1000 W:1.556, b: 0.009 Cost: 25.629877\n",
            "Epoch  600/1000 W:1.556, b: 0.009 Cost: 25.629847\n",
            "Epoch  700/1000 W:1.556, b: 0.009 Cost: 25.629938\n",
            "Epoch  800/1000 W:1.556, b: 0.009 Cost: 25.629847\n",
            "Epoch  900/1000 W:1.556, b: 0.009 Cost: 25.629839\n",
            "Epoch 1000/1000 W:1.556, b: 0.009 Cost: 25.629808\n"
          ]
        }
      ],
      "source": [
        "import torch\n",
        "import torch.optim as optim\n",
        "\n",
        "#데이터 정의\n",
        "#키: 159, 165, 173, 175, 178, 182\n",
        "#발길이: 240, 250, 275, 275, 280, 285\n",
        "x_train = torch.FloatTensor([[159],[165],[173],[175],[178],[182]])\n",
        "y_train = torch.FloatTensor([[240],[250],[275],[275],[280],[285]])\n",
        "\n",
        "#Hypothesis 초기화\n",
        "W = torch.zeros(1, requires_grad=True)\n",
        "b = torch.zeros(1, requires_grad=True)\n",
        "\n",
        "#Optimizer 정의\n",
        "optimizer = torch.optim.SGD([W,b], lr=0.000001)\n",
        "\n",
        "nb_epochs = 1000\n",
        "for epoch in range(nb_epochs + 1):\n",
        "  #H(x) 계산\n",
        "  hypothesis = x_train * W + b\n",
        "  #cost 계산\n",
        "  cost = torch.mean((hypothesis - y_train)**2)\n",
        "  #Optimizer로 학습\n",
        "  optimizer.zero_grad()\n",
        "  cost.backward()\n",
        "  optimizer.step()\n",
        "\n",
        "  if epoch % 100 == 0:\n",
        "    print('Epoch {:4d}/{} W:{:.3f}, b: {:.3f} Cost: {:.6f}'.format(epoch, nb_epochs, W.item(), b.item(), cost.item()))"
      ]
    },
    {
      "cell_type": "markdown",
      "source": [
        "if문을 사용하여 가장 작은 cost를 가진 W랑b를 찾아서 사용했습니다."
      ],
      "metadata": {
        "id": "40aeMJ4PYabh"
      }
    },
    {
      "cell_type": "markdown",
      "source": [
        "min variable을 이용하여 cost가 가장 낮을때 variable들을 저장한다."
      ],
      "metadata": {
        "id": "x8QSH5cTgFqR"
      }
    },
    {
      "cell_type": "code",
      "source": [
        "import torch\n",
        "import torch.optim as optim\n",
        "\n",
        "#데이터 정의\n",
        "#키: 159, 165, 173, 175, 178, 182\n",
        "#발길이: 240, 250, 275, 275, 280, 285\n",
        "x_train = torch.FloatTensor([[159],[165],[173],[175],[178],[182]])\n",
        "y_train = torch.FloatTensor([[240],[250],[275],[275],[280],[285]])\n",
        "\n",
        "#Hypothesis 초기화\n",
        "W = torch.zeros(1, requires_grad=True)\n",
        "b = torch.zeros(1, requires_grad=True)\n",
        "\n",
        "#나중에 사용할 variables\n",
        "min = 100000000000000\n",
        "multiplier = 1\n",
        "add = 1\n",
        "\n",
        "#Optimizer 정의\n",
        "optimizer = torch.optim.SGD([W,b], lr=0.000001)\n",
        "\n",
        "nb_epochs = 1000\n",
        "for epoch in range(nb_epochs + 1):\n",
        "  #H(x) 계산\n",
        "  hypothesis = x_train * W + b\n",
        "  #cost 계산\n",
        "  cost = torch.mean((hypothesis - y_train)**2)\n",
        "  #Optimizer로 학습\n",
        "  cost.backward()\n",
        "  optimizer.step()\n",
        "  optimizer.zero_grad()\n",
        "\n",
        "  #가장 optimal한 solution을 저장한다\n",
        "  if cost < min:\n",
        "    min = cost\n",
        "    multiplier = W\n",
        "    add = b\n",
        "\n",
        "#키를 입력한다\n",
        "height = int(input(\"Input Height: \"))\n",
        "#가장 optimal한 solution을 이용하여 발길이를 찾는다\n",
        "foot_size = height * multiplier.item() + add.item()\n",
        "print(\"Foot size = \")\n",
        "print(foot_size)\n"
      ],
      "metadata": {
        "colab": {
          "base_uri": "https://localhost:8080/"
        },
        "id": "D3HT7GqOYl4T",
        "outputId": "cc54f9ea-4659-4fe2-c59a-688e2f6d1e85"
      },
      "execution_count": 22,
      "outputs": [
        {
          "output_type": "stream",
          "name": "stdout",
          "text": [
            "Input Height: 175\n",
            "Foot size = \n",
            "272.35615557059646\n"
          ]
        }
      ]
    }
  ]
}